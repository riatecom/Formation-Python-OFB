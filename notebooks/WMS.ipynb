{
 "cells": [
  {
   "cell_type": "markdown",
   "metadata": {},
   "source": [
    "# Web Services de l'OGC\n",
    "\n",
    "Nous allons utiliser la bibliothèque [OWSLib](https://owslib.readthedocs.io/en/latest/) qui permet d'accéder aux différents services Web compatibles avec les standards de l'OGC (WMS, WFS, WMTS, WPS, CSW, etc.) "
   ]
  },
  {
   "cell_type": "code",
   "execution_count": 39,
   "metadata": {},
   "outputs": [],
   "source": [
    "from owslib.wms import WebMapService\n",
    "from owslib.wfs import WebFeatureService"
   ]
  },
  {
   "cell_type": "code",
   "execution_count": 40,
   "metadata": {},
   "outputs": [],
   "source": [
    "url_wms_raster_geoportail = 'https://wxs.ign.fr/essentiels/geoportail/r/wms?SERVICE=WMS&VERSION=1.3.0&REQUEST=GetCapabilities'\n",
    "url_wfs_geoportail = 'https://wxs.ign.fr/essentiels/geoportail/wfs?SERVICE=WFS&VERSION=2.0.0&REQUEST=GetCapabilities'"
   ]
  },
  {
   "cell_type": "markdown",
   "metadata": {},
   "source": [
    "## WMS\n",
    "\n",
    "Explorons le contenu du serveur WMS du geoportail de l'IGN :"
   ]
  },
  {
   "cell_type": "code",
   "execution_count": 41,
   "metadata": {},
   "outputs": [],
   "source": [
    "wms = WebMapService(url_wms_raster_geoportail, version='1.3.0')"
   ]
  },
  {
   "cell_type": "code",
   "execution_count": 42,
   "metadata": {},
   "outputs": [
    {
     "data": {
      "text/plain": [
       "'Service WMS Raster Geoportail Publics'"
      ]
     },
     "execution_count": 42,
     "metadata": {},
     "output_type": "execute_result"
    }
   ],
   "source": [
    "wms.identification.title"
   ]
  },
  {
   "cell_type": "code",
   "execution_count": 43,
   "metadata": {},
   "outputs": [
    {
     "data": {
      "text/plain": [
       "\"Ce service permet la visualisation de couches de données raster IGN au travers d'un flux WMS\""
      ]
     },
     "execution_count": 43,
     "metadata": {},
     "output_type": "execute_result"
    }
   ],
   "source": [
    "wms.identification.abstract"
   ]
  },
  {
   "cell_type": "code",
   "execution_count": 44,
   "metadata": {},
   "outputs": [
    {
     "data": {
      "text/plain": [
       "['CADASTRALPARCELS.PARCELLAIRE_EXPRESS',\n",
       " 'GEOGRAPHICALGRIDSYSTEMS.PLANIGNV2',\n",
       " 'LIMITES_ADMINISTRATIVES_EXPRESS.LATEST',\n",
       " 'ORTHOIMAGERY.ORTHOPHOTOS']"
      ]
     },
     "execution_count": 44,
     "metadata": {},
     "output_type": "execute_result"
    }
   ],
   "source": [
    "list(wms.contents)"
   ]
  },
  {
   "cell_type": "code",
   "execution_count": 45,
   "metadata": {},
   "outputs": [
    {
     "data": {
      "text/plain": [
       "'PCI vecteur'"
      ]
     },
     "execution_count": 45,
     "metadata": {},
     "output_type": "execute_result"
    }
   ],
   "source": [
    "wms['CADASTRALPARCELS.PARCELLAIRE_EXPRESS'].title"
   ]
  },
  {
   "cell_type": "code",
   "execution_count": 46,
   "metadata": {},
   "outputs": [
    {
     "data": {
      "text/plain": [
       "(-63.372521503, -21.475586668, 55.925864577, 51.312119281)"
      ]
     },
     "execution_count": 46,
     "metadata": {},
     "output_type": "execute_result"
    }
   ],
   "source": [
    "a = wms['CADASTRALPARCELS.PARCELLAIRE_EXPRESS']\n",
    "a.boundingBoxWGS84"
   ]
  },
  {
   "cell_type": "code",
   "execution_count": 47,
   "metadata": {},
   "outputs": [
    {
     "data": {
      "text/plain": [
       "['EPSG:4692',\n",
       " 'IGNF:RGF93CC49',\n",
       " 'EPSG:27593',\n",
       " 'EPSG:4642',\n",
       " 'EPSG:2987',\n",
       " 'EPSG:4632',\n",
       " 'IGNF:MAYO50GEO',\n",
       " 'EPSG:23030',\n",
       " 'EPSG:4467',\n",
       " 'EPSG:27561',\n",
       " 'EPSG:2154',\n",
       " 'EPSG:3312',\n",
       " 'IGNF:RGM04UTM38S',\n",
       " 'EPSG:27583',\n",
       " 'IGNF:RGPFUTM7S',\n",
       " 'IGNF:RGF93CC45',\n",
       " 'EPSG:2970',\n",
       " 'IGNF:UTM01SW84',\n",
       " 'IGNF:STPM50GEO',\n",
       " 'EPSG:2988',\n",
       " 'IGNF:CSG67UTM22',\n",
       " 'EPSG:4749',\n",
       " 'EPSG:32738',\n",
       " 'IGNF:UTM20W84',\n",
       " 'EPSG:3950',\n",
       " 'EPSG:27574',\n",
       " 'EPSG:4623',\n",
       " 'EPSG:27571',\n",
       " 'EPSG:27562',\n",
       " 'IGNF:UTM20W84MART',\n",
       " 'IGNF:RGF93CC46',\n",
       " 'CRS:84',\n",
       " 'IGNF:LAMB2',\n",
       " 'IGNF:CSG67GEO',\n",
       " 'EPSG:3305',\n",
       " 'IGNF:WALL78UTM1S',\n",
       " 'EPSG:4559',\n",
       " 'EPSG:4326',\n",
       " 'IGNF:UTM22RGFG95',\n",
       " 'IGNF:LAMB1C',\n",
       " 'IGNF:TAHI51UTM06S',\n",
       " 'EPSG:27591',\n",
       " 'IGNF:RGPFUTM6S',\n",
       " 'EPSG:3035',\n",
       " 'EPSG:4637',\n",
       " 'IGNF:RGR92GEO',\n",
       " 'IGNF:MART38UTM20',\n",
       " 'EPSG:4690',\n",
       " 'EPSG:4628',\n",
       " 'EPSG:2977',\n",
       " 'EPSG:3034',\n",
       " 'IGNF:UTM20W84GUAD',\n",
       " 'IGNF:RGPFUTM5S',\n",
       " 'EPSG:32701',\n",
       " 'EPSG:3303',\n",
       " 'EPSG:4630',\n",
       " 'EPSG:27584',\n",
       " 'EPSG:27564',\n",
       " 'EPSG:3043',\n",
       " 'EPSG:3297',\n",
       " 'IGNF:LAMB1',\n",
       " 'EPSG:3298',\n",
       " 'IGNF:LAMB93',\n",
       " 'EPSG:3170',\n",
       " 'EPSG:4171',\n",
       " 'IGNF:UTM32W84',\n",
       " 'EPSG:4622',\n",
       " 'EPSG:27594',\n",
       " 'IGNF:RGSPM06U21',\n",
       " 'EPSG:2978',\n",
       " 'EPSG:4629',\n",
       " 'IGNF:RGR92UTM40S',\n",
       " 'EPSG:3304',\n",
       " 'EPSG:27563',\n",
       " 'EPSG:32631',\n",
       " 'EPSG:3044',\n",
       " 'EPSG:4643',\n",
       " 'IGNF:UTM30W84',\n",
       " 'IGNF:LAMB4',\n",
       " 'EPSG:3857',\n",
       " 'EPSG:4470',\n",
       " 'EPSG:4636',\n",
       " 'IGNF:RGF93G',\n",
       " 'IGNF:CSG67UTM21',\n",
       " 'EPSG:3042',\n",
       " 'EPSG:4463',\n",
       " 'EPSG:2990',\n",
       " 'EPSG:32705',\n",
       " 'EPSG:3171',\n",
       " 'EPSG:27573',\n",
       " 'EPSG:4621',\n",
       " 'IGNF:RGF93CC50',\n",
       " 'EPSG:3943',\n",
       " 'EPSG:32630',\n",
       " 'EPSG:4807',\n",
       " 'EPSG:32706',\n",
       " 'IGNF:UTM39SW84',\n",
       " 'IGNF:GUADFM49U20',\n",
       " 'EPSG:2969',\n",
       " 'IGNF:LAMB3',\n",
       " 'IGNF:REUN47GEO',\n",
       " 'EPSG:32632',\n",
       " 'EPSG:4638',\n",
       " 'EPSG:4625',\n",
       " 'IGNF:LAMB4C',\n",
       " 'EPSG:4687',\n",
       " 'EPSG:4626',\n",
       " 'IGNF:STPM50UTM21',\n",
       " 'EPSG:2971',\n",
       " 'IGNF:RGF93CC42',\n",
       " 'EPSG:3949',\n",
       " 'EPSG:23032',\n",
       " 'IGNF:LAMBE',\n",
       " 'EPSG:21781',\n",
       " 'EPSG:2980',\n",
       " 'EPSG:4639',\n",
       " 'IGNF:MAYO50UTM38S',\n",
       " 'EPSG:32740',\n",
       " 'IGNF:RGF93CC44',\n",
       " 'IGNF:TAHI79UTM6S',\n",
       " 'EPSG:3948',\n",
       " 'EPSG:27572',\n",
       " 'EPSG:3313',\n",
       " 'EPSG:3302',\n",
       " 'EPSG:4627',\n",
       " 'EPSG:2975',\n",
       " 'EPSG:3944',\n",
       " 'EPSG:4558',\n",
       " 'EPSG:3727',\n",
       " 'EPSG:23031',\n",
       " 'IGNF:RGM04GEO',\n",
       " 'EPSG:3947',\n",
       " 'IGNF:LAMB2C',\n",
       " 'EPSG:3306',\n",
       " 'EPSG:4471',\n",
       " 'IGNF:REUN47GAUSSL',\n",
       " 'IGNF:UTM31W84',\n",
       " 'EPSG:27581',\n",
       " 'IGNF:WGS84G',\n",
       " 'EPSG:3296',\n",
       " 'EPSG:4633',\n",
       " 'IGNF:RGFG95GEO',\n",
       " 'IGNF:IGN63UTM7S',\n",
       " 'EPSG:3945',\n",
       " 'EPSG:32621',\n",
       " 'EPSG:32739',\n",
       " 'EPSG:3946',\n",
       " 'EPSG:32707',\n",
       " 'EPSG:4258',\n",
       " 'EPSG:4691',\n",
       " 'EPSG:3942',\n",
       " 'EPSG:4689',\n",
       " 'EPSG:2981',\n",
       " 'EPSG:4624',\n",
       " 'IGNF:MART38GEO',\n",
       " 'EPSG:27592',\n",
       " 'EPSG:32622',\n",
       " 'EPSG:27582',\n",
       " 'IGNF:RGF93CC48',\n",
       " 'EPSG:4644',\n",
       " 'IGNF:GUAD48GEO',\n",
       " 'IGNF:GUADFM49GEO',\n",
       " 'EPSG:2989',\n",
       " 'IGNF:GUAD48UTM20',\n",
       " 'EPSG:2973',\n",
       " 'EPSG:3172',\n",
       " 'EPSG:32620',\n",
       " 'EPSG:2976',\n",
       " 'EPSG:4688',\n",
       " 'IGNF:LAMB3C',\n",
       " 'IGNF:RGF93CC47',\n",
       " 'IGNF:WGS84UTM20',\n",
       " 'EPSG:4275',\n",
       " 'EPSG:2972',\n",
       " 'IGNF:RGF93CC43',\n",
       " 'EPSG:4641']"
      ]
     },
     "execution_count": 47,
     "metadata": {},
     "output_type": "execute_result"
    }
   ],
   "source": [
    "wms['CADASTRALPARCELS.PARCELLAIRE_EXPRESS'].crsOptions"
   ]
  },
  {
   "cell_type": "markdown",
   "metadata": {},
   "source": [
    "## WFS\n",
    "\n",
    "Explorons désormais le contenu du serveur WFS du geoportail de l'IGN :"
   ]
  },
  {
   "cell_type": "markdown",
   "metadata": {},
   "source": [
    "## Écrire dans un fichier CSV ou dans un fichier excel\n",
    "\n",
    "La bibliothèque standard de Python propose le module `csv` qui va permettre de manipuler facilement des fichiers CSV (lecture, écriture)  \n",
    "\n",
    "Pour écrire ou lire des tableurs dans des formats plus compliqués (XLS, XLSX, ODS, etc.) il va être nécessaire d'utiliser des bibliothèques tiers (la bibliothèque `pandas` qui )"
   ]
  },
  {
   "cell_type": "markdown",
   "metadata": {},
   "source": [
    "## *Putting it all together*"
   ]
  },
  {
   "cell_type": "markdown",
   "metadata": {},
   "source": [
    "Sur la base des commandes vues au-dessus et en vous aidant de l'extrait de code ci-dessous, écrivez un script permettant de lister les différentes couches présentes dans un flux WMS ou WFS de votre choix (vous trouverez ci-dessous une liste d'URL si besoin) et de la sauvegarder dans un fichier CSV.\n",
    "Pour chaque couche, vous devez stocker son identifiant, son titre, etc. etc.\n",
    "\n",
    "Le tableur obtenu doit ainsi être de la forme suivante :\n",
    "\n",
    "| Couche | Titre | Abstract | Bounding Box WGS84 | ZZZZ |\n",
    "|--------|-------|------|------|------|\n",
    "| CADASTRALPARCELS.PARCELLAIRE_EXPRESS | PCI vecteur | Plan cadastral informatisé vecteur de la DGFIP. | YYYY | ZZZZ |\n",
    "| GEOGRAPHICALGRIDSYSTEMS.PLANIGNV2 | Plan IGN v2 | Cartographie multi-échelles sur le territoire national, issue des bases de données vecteur de l’IGN, mis à jour régulièrement et réalisée selon un processus entièrement automatisé. | YYYY | ZZZZ |\n"
   ]
  },
  {
   "cell_type": "markdown",
   "metadata": {},
   "source": []
  },
  {
   "cell_type": "markdown",
   "metadata": {},
   "source": []
  }
 ],
 "metadata": {
  "kernelspec": {
   "display_name": "env-quarto",
   "language": "python",
   "name": "python3"
  },
  "language_info": {
   "codemirror_mode": {
    "name": "ipython",
    "version": 3
   },
   "file_extension": ".py",
   "mimetype": "text/x-python",
   "name": "python",
   "nbconvert_exporter": "python",
   "pygments_lexer": "ipython3",
   "version": "3.10.12"
  }
 },
 "nbformat": 4,
 "nbformat_minor": 2
}
