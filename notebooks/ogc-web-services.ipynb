{
 "cells": [
  {
   "cell_type": "markdown",
   "metadata": {},
   "source": [
    "# Web Services de l'OGC\n",
    "\n",
    "Nous allons utiliser la bibliothèque [OWSLib](https://owslib.readthedocs.io/en/latest/) qui permet d'accéder aux différents services Web compatibles avec les standards de l'OGC (WMS, WFS, WMTS, WPS, CSW, etc.) "
   ]
  },
  {
   "cell_type": "markdown",
   "metadata": {},
   "source": [
    "## Préambule\n",
    "\n",
    "Nous importons ici les bibliothèques que nous allons utiliser dans le notebook."
   ]
  },
  {
   "cell_type": "code",
   "execution_count": 111,
   "metadata": {},
   "outputs": [],
   "source": [
    "from owslib.wms import WebMapService\n",
    "from owslib.wfs import WebFeatureService\n",
    "import pandas as pd"
   ]
  },
  {
   "cell_type": "markdown",
   "metadata": {},
   "source": [
    "Les URLs des services que nous souhaitons explorer."
   ]
  },
  {
   "cell_type": "code",
   "execution_count": 112,
   "metadata": {},
   "outputs": [],
   "source": [
    "url_wms_raster_geoportail = 'https://wxs.ign.fr/essentiels/geoportail/r/wms?SERVICE=WMS&VERSION=1.3.0&REQUEST=GetCapabilities'\n",
    "url_wfs_geoportail = 'https://wxs.ign.fr/essentiels/geoportail/wfs?SERVICE=WFS&VERSION=2.0.0&REQUEST=GetCapabilities'"
   ]
  },
  {
   "cell_type": "markdown",
   "metadata": {},
   "source": [
    "## WMS\n",
    "\n",
    "Explorons le contenu du serveur WMS du geoportail de l'IGN :"
   ]
  },
  {
   "cell_type": "code",
   "execution_count": 113,
   "metadata": {},
   "outputs": [
    {
     "data": {
      "text/plain": [
       "<owslib.map.wms130.WebMapService_1_3_0 at 0x7f93977e8e80>"
      ]
     },
     "execution_count": 113,
     "metadata": {},
     "output_type": "execute_result"
    }
   ],
   "source": [
    "wms = WebMapService(url_wms_raster_geoportail, version='1.3.0')\n",
    "wms"
   ]
  },
  {
   "cell_type": "markdown",
   "metadata": {},
   "source": [
    "L'object de type `WebMapService` qui est contenu dans la variable `wms` contient des attributs décrivant le Web Service en question (attribut `identification` par exemple), un attribut décrivant les différents opérations supportées (`operations`) et un attribut décrivant les différentes couche qu'il fournit (`contents`) :"
   ]
  },
  {
   "cell_type": "code",
   "execution_count": 114,
   "metadata": {},
   "outputs": [
    {
     "data": {
      "text/plain": [
       "'Service WMS Raster Geoportail Publics'"
      ]
     },
     "execution_count": 114,
     "metadata": {},
     "output_type": "execute_result"
    }
   ],
   "source": [
    "wms.identification.title"
   ]
  },
  {
   "cell_type": "code",
   "execution_count": 115,
   "metadata": {},
   "outputs": [
    {
     "data": {
      "text/plain": [
       "'WMS'"
      ]
     },
     "execution_count": 115,
     "metadata": {},
     "output_type": "execute_result"
    }
   ],
   "source": [
    "wms.identification.type"
   ]
  },
  {
   "cell_type": "code",
   "execution_count": 116,
   "metadata": {},
   "outputs": [
    {
     "data": {
      "text/plain": [
       "'1.3.0'"
      ]
     },
     "execution_count": 116,
     "metadata": {},
     "output_type": "execute_result"
    }
   ],
   "source": [
    "wms.identification.version"
   ]
  },
  {
   "cell_type": "code",
   "execution_count": 117,
   "metadata": {},
   "outputs": [
    {
     "data": {
      "text/plain": [
       "\"Ce service permet la visualisation de couches de données raster IGN au travers d'un flux WMS\""
      ]
     },
     "execution_count": 117,
     "metadata": {},
     "output_type": "execute_result"
    }
   ],
   "source": [
    "wms.identification.abstract"
   ]
  },
  {
   "cell_type": "markdown",
   "metadata": {},
   "source": [
    "Lister les opérations supportées :"
   ]
  },
  {
   "cell_type": "code",
   "execution_count": 118,
   "metadata": {},
   "outputs": [
    {
     "data": {
      "text/plain": [
       "[<owslib.map.wms130.OperationMetadata at 0x7f93977e8730>,\n",
       " <owslib.map.wms130.OperationMetadata at 0x7f93977e80a0>,\n",
       " <owslib.map.wms130.OperationMetadata at 0x7f93977e9150>]"
      ]
     },
     "execution_count": 118,
     "metadata": {},
     "output_type": "execute_result"
    }
   ],
   "source": [
    "wms.operations"
   ]
  },
  {
   "cell_type": "markdown",
   "metadata": {},
   "source": [
    "Chaque opération est décrite par un objet de type [`OperationMetadata`](), utilisons une bouche pour afficher le nom de chaque opération :"
   ]
  },
  {
   "cell_type": "code",
   "execution_count": 119,
   "metadata": {},
   "outputs": [
    {
     "name": "stdout",
     "output_type": "stream",
     "text": [
      "GetCapabilities\n",
      "GetMap\n",
      "GetFeatureInfo\n"
     ]
    }
   ],
   "source": [
    "for op in wms.operations:\n",
    "    print(op.name)"
   ]
  },
  {
   "cell_type": "markdown",
   "metadata": {},
   "source": [
    "Liste des couches disponibles :"
   ]
  },
  {
   "cell_type": "code",
   "execution_count": 120,
   "metadata": {},
   "outputs": [
    {
     "data": {
      "text/plain": [
       "OrderedDict([('CADASTRALPARCELS.PARCELLAIRE_EXPRESS',\n",
       "              <owslib.map.wms130.ContentMetadata at 0x7f93977e8580>),\n",
       "             ('GEOGRAPHICALGRIDSYSTEMS.PLANIGNV2',\n",
       "              <owslib.map.wms130.ContentMetadata at 0x7f93976ec670>),\n",
       "             ('LIMITES_ADMINISTRATIVES_EXPRESS.LATEST',\n",
       "              <owslib.map.wms130.ContentMetadata at 0x7f93978015d0>),\n",
       "             ('ORTHOIMAGERY.ORTHOPHOTOS',\n",
       "              <owslib.map.wms130.ContentMetadata at 0x7f9397801d80>)])"
      ]
     },
     "execution_count": 120,
     "metadata": {},
     "output_type": "execute_result"
    }
   ],
   "source": [
    "wms.contents"
   ]
  },
  {
   "cell_type": "code",
   "execution_count": 121,
   "metadata": {},
   "outputs": [
    {
     "data": {
      "text/plain": [
       "['CADASTRALPARCELS.PARCELLAIRE_EXPRESS',\n",
       " 'GEOGRAPHICALGRIDSYSTEMS.PLANIGNV2',\n",
       " 'LIMITES_ADMINISTRATIVES_EXPRESS.LATEST',\n",
       " 'ORTHOIMAGERY.ORTHOPHOTOS']"
      ]
     },
     "execution_count": 121,
     "metadata": {},
     "output_type": "execute_result"
    }
   ],
   "source": [
    "list(wms.contents)"
   ]
  },
  {
   "cell_type": "markdown",
   "metadata": {},
   "source": [
    "On peut explorer les attributs de chacune des couches en utilisant l'objet `WebMapService` comme un dictionnaire et en utilisant les noms des couches comme des clés.\n"
   ]
  },
  {
   "cell_type": "code",
   "execution_count": 122,
   "metadata": {},
   "outputs": [
    {
     "data": {
      "text/plain": [
       "<owslib.map.wms130.ContentMetadata at 0x7f93977e8580>"
      ]
     },
     "execution_count": 122,
     "metadata": {},
     "output_type": "execute_result"
    }
   ],
   "source": [
    "parcellaire_express = wms['CADASTRALPARCELS.PARCELLAIRE_EXPRESS']\n",
    "parcellaire_express"
   ]
  },
  {
   "cell_type": "markdown",
   "metadata": {},
   "source": [
    "L'objet qui est retourné dispose de plusieurs attributs décrivant la couche en question : `tile`, `abstract`, `boundingBoxWGS84`, `crsOptions` etc."
   ]
  },
  {
   "cell_type": "code",
   "execution_count": 123,
   "metadata": {},
   "outputs": [
    {
     "data": {
      "text/plain": [
       "'PCI vecteur'"
      ]
     },
     "execution_count": 123,
     "metadata": {},
     "output_type": "execute_result"
    }
   ],
   "source": [
    "parcellaire_express.title"
   ]
  },
  {
   "cell_type": "code",
   "execution_count": 124,
   "metadata": {},
   "outputs": [
    {
     "data": {
      "text/plain": [
       "'Plan cadastral informatisé vecteur de la DGFIP.'"
      ]
     },
     "execution_count": 124,
     "metadata": {},
     "output_type": "execute_result"
    }
   ],
   "source": [
    "parcellaire_express.abstract"
   ]
  },
  {
   "cell_type": "code",
   "execution_count": 125,
   "metadata": {},
   "outputs": [
    {
     "data": {
      "text/plain": [
       "{'PCI vecteur': {'title': 'PCI vecteur',\n",
       "  'legend': 'https://wxs.ign.fr/static/legends/CADASTRALPARCELS.PARCELLAIRE_EXPRESS.png',\n",
       "  'legend_width': '300',\n",
       "  'legend_height': '183',\n",
       "  'legend_format': 'image/png'},\n",
       " 'normal': {'title': 'Légende générique',\n",
       "  'legend': 'https://wxs.ign.fr/static/legends/LEGEND.jpg',\n",
       "  'legend_width': '200',\n",
       "  'legend_height': '200',\n",
       "  'legend_format': 'image/jpeg'}}"
      ]
     },
     "execution_count": 125,
     "metadata": {},
     "output_type": "execute_result"
    }
   ],
   "source": [
    "parcellaire_express.styles"
   ]
  },
  {
   "cell_type": "code",
   "execution_count": 126,
   "metadata": {},
   "outputs": [
    {
     "data": {
      "text/plain": [
       "(-63.372521503, -21.475586668, 55.925864577, 51.312119281)"
      ]
     },
     "execution_count": 126,
     "metadata": {},
     "output_type": "execute_result"
    }
   ],
   "source": [
    "parcellaire_express.boundingBoxWGS84"
   ]
  },
  {
   "cell_type": "code",
   "execution_count": 127,
   "metadata": {},
   "outputs": [
    {
     "data": {
      "text/plain": [
       "['EPSG:4558',\n",
       " 'EPSG:2971',\n",
       " 'IGNF:REUN47GEO',\n",
       " 'EPSG:4463',\n",
       " 'IGNF:LAMB2C',\n",
       " 'EPSG:2976',\n",
       " 'EPSG:2972',\n",
       " 'IGNF:CSG67GEO',\n",
       " 'IGNF:RGM04GEO',\n",
       " 'IGNF:UTM39SW84',\n",
       " 'EPSG:27571',\n",
       " 'EPSG:27582',\n",
       " 'EPSG:27564',\n",
       " 'EPSG:2987',\n",
       " 'IGNF:UTM30W84',\n",
       " 'EPSG:2973',\n",
       " 'EPSG:3945',\n",
       " 'EPSG:2989',\n",
       " 'EPSG:27584',\n",
       " 'EPSG:21781',\n",
       " 'EPSG:3296',\n",
       " 'EPSG:2981',\n",
       " 'EPSG:4275',\n",
       " 'EPSG:4807',\n",
       " 'IGNF:UTM20W84MART',\n",
       " 'IGNF:RGF93CC50',\n",
       " 'IGNF:LAMB1C',\n",
       " 'IGNF:WGS84UTM20',\n",
       " 'IGNF:RGF93CC43',\n",
       " 'IGNF:REUN47GAUSSL',\n",
       " 'EPSG:4641',\n",
       " 'EPSG:32621',\n",
       " 'EPSG:23031',\n",
       " 'EPSG:4690',\n",
       " 'EPSG:23030',\n",
       " 'EPSG:4258',\n",
       " 'IGNF:RGF93CC44',\n",
       " 'IGNF:WGS84G',\n",
       " 'EPSG:27572',\n",
       " 'IGNF:RGPFUTM5S',\n",
       " 'EPSG:4638',\n",
       " 'EPSG:27561',\n",
       " 'EPSG:2977',\n",
       " 'EPSG:3034',\n",
       " 'EPSG:32738',\n",
       " 'IGNF:MAYO50GEO',\n",
       " 'IGNF:GUAD48GEO',\n",
       " 'EPSG:3044',\n",
       " 'EPSG:27563',\n",
       " 'IGNF:RGF93CC45',\n",
       " 'EPSG:2980',\n",
       " 'IGNF:LAMB4C',\n",
       " 'EPSG:4627',\n",
       " 'IGNF:LAMB2',\n",
       " 'EPSG:4630',\n",
       " 'IGNF:CSG67UTM21',\n",
       " 'EPSG:3949',\n",
       " 'EPSG:3043',\n",
       " 'EPSG:4470',\n",
       " 'IGNF:TAHI79UTM6S',\n",
       " 'EPSG:4467',\n",
       " 'EPSG:3171',\n",
       " 'EPSG:32701',\n",
       " 'IGNF:RGSPM06U21',\n",
       " 'EPSG:2975',\n",
       " 'EPSG:3298',\n",
       " 'EPSG:27594',\n",
       " 'IGNF:RGF93CC42',\n",
       " 'EPSG:4624',\n",
       " 'EPSG:32631',\n",
       " 'EPSG:2970',\n",
       " 'EPSG:2990',\n",
       " 'EPSG:2978',\n",
       " 'IGNF:LAMBE',\n",
       " 'EPSG:3948',\n",
       " 'EPSG:3943',\n",
       " 'EPSG:3305',\n",
       " 'EPSG:32622',\n",
       " 'EPSG:3312',\n",
       " 'EPSG:32739',\n",
       " 'IGNF:UTM01SW84',\n",
       " 'IGNF:LAMB4',\n",
       " 'IGNF:RGF93CC46',\n",
       " 'IGNF:STPM50UTM21',\n",
       " 'EPSG:32630',\n",
       " 'EPSG:4633',\n",
       " 'EPSG:4644',\n",
       " 'EPSG:3942',\n",
       " 'EPSG:4749',\n",
       " 'IGNF:UTM31W84',\n",
       " 'EPSG:27583',\n",
       " 'IGNF:GUADFM49U20',\n",
       " 'EPSG:4559',\n",
       " 'IGNF:UTM22RGFG95',\n",
       " 'EPSG:4629',\n",
       " 'IGNF:RGF93CC48',\n",
       " 'EPSG:4637',\n",
       " 'IGNF:GUAD48UTM20',\n",
       " 'IGNF:LAMB3',\n",
       " 'IGNF:LAMB1',\n",
       " 'EPSG:3170',\n",
       " 'IGNF:WALL78UTM1S',\n",
       " 'IGNF:RGM04UTM38S',\n",
       " 'EPSG:27573',\n",
       " 'EPSG:3172',\n",
       " 'EPSG:4623',\n",
       " 'IGNF:RGPFUTM6S',\n",
       " 'EPSG:4626',\n",
       " 'EPSG:27562',\n",
       " 'EPSG:32707',\n",
       " 'IGNF:RGFG95GEO',\n",
       " 'EPSG:3857',\n",
       " 'EPSG:32740',\n",
       " 'EPSG:23032',\n",
       " 'EPSG:27592',\n",
       " 'IGNF:STPM50GEO',\n",
       " 'EPSG:4687',\n",
       " 'IGNF:MART38UTM20',\n",
       " 'EPSG:3035',\n",
       " 'EPSG:4691',\n",
       " 'IGNF:UTM20W84',\n",
       " 'EPSG:4622',\n",
       " 'IGNF:RGF93G',\n",
       " 'EPSG:4471',\n",
       " 'IGNF:RGR92GEO',\n",
       " 'IGNF:MAYO50UTM38S',\n",
       " 'EPSG:32706',\n",
       " 'EPSG:4171',\n",
       " 'EPSG:4689',\n",
       " 'EPSG:3304',\n",
       " 'EPSG:4628',\n",
       " 'EPSG:3946',\n",
       " 'EPSG:4643',\n",
       " 'IGNF:UTM20W84GUAD',\n",
       " 'EPSG:3950',\n",
       " 'EPSG:4639',\n",
       " 'EPSG:27581',\n",
       " 'EPSG:3042',\n",
       " 'EPSG:3727',\n",
       " 'IGNF:RGR92UTM40S',\n",
       " 'EPSG:3313',\n",
       " 'EPSG:3944',\n",
       " 'IGNF:TAHI51UTM06S',\n",
       " 'EPSG:32632',\n",
       " 'IGNF:RGF93CC47',\n",
       " 'IGNF:GUADFM49GEO',\n",
       " 'IGNF:LAMB3C',\n",
       " 'EPSG:4642',\n",
       " 'EPSG:3297',\n",
       " 'IGNF:CSG67UTM22',\n",
       " 'IGNF:UTM32W84',\n",
       " 'EPSG:27591',\n",
       " 'EPSG:4688',\n",
       " 'EPSG:4692',\n",
       " 'EPSG:4632',\n",
       " 'EPSG:4636',\n",
       " 'EPSG:3947',\n",
       " 'EPSG:2154',\n",
       " 'EPSG:4621',\n",
       " 'IGNF:LAMB93',\n",
       " 'IGNF:RGF93CC49',\n",
       " 'EPSG:4326',\n",
       " 'EPSG:2969',\n",
       " 'EPSG:3302',\n",
       " 'EPSG:4625',\n",
       " 'CRS:84',\n",
       " 'IGNF:IGN63UTM7S',\n",
       " 'EPSG:2988',\n",
       " 'EPSG:3303',\n",
       " 'IGNF:RGPFUTM7S',\n",
       " 'EPSG:32620',\n",
       " 'EPSG:32705',\n",
       " 'IGNF:MART38GEO',\n",
       " 'EPSG:27574',\n",
       " 'EPSG:27593',\n",
       " 'EPSG:3306']"
      ]
     },
     "execution_count": 127,
     "metadata": {},
     "output_type": "execute_result"
    }
   ],
   "source": [
    "parcellaire_express.crsOptions"
   ]
  },
  {
   "cell_type": "code",
   "execution_count": 128,
   "metadata": {},
   "outputs": [],
   "source": [
    "img = wms.getmap(\n",
    "    layers=['CADASTRALPARCELS.PARCELLAIRE_EXPRESS'],\n",
    "    size=[600, 400],\n",
    "    srs=\"EPSG:4326\",\n",
    "    bbox=[-1.0, 46.0, 8.0, 50.0],\n",
    "    format=\"image/jpeg\")"
   ]
  },
  {
   "cell_type": "markdown",
   "metadata": {},
   "source": [
    "On peut afficher l'image dans le notebook :"
   ]
  },
  {
   "cell_type": "code",
   "execution_count": 129,
   "metadata": {},
   "outputs": [],
   "source": [
    "from IPython.display import Image"
   ]
  },
  {
   "cell_type": "code",
   "execution_count": 130,
   "metadata": {},
   "outputs": [
    {
     "data": {
      "image/jpeg": "[encoded data removed]",
      "text/plain": [
       "<IPython.core.display.Image object>"
      ]
     },
     "execution_count": 130,
     "metadata": {},
     "output_type": "execute_result"
    }
   ],
   "source": [
    "Image(img.read())"
   ]
  },
  {
   "cell_type": "markdown",
   "metadata": {},
   "source": [
    "Ou la sauvegarder :"
   ]
  },
  {
   "cell_type": "code",
   "execution_count": 131,
   "metadata": {},
   "outputs": [],
   "source": [
    "with open('/tmp/image.jpeg', 'wb') as f:\n",
    "    f.write(img.read())"
   ]
  },
  {
   "cell_type": "markdown",
   "metadata": {},
   "source": [
    "Et pour récupérer automatique des informations sur chacune des couches ?"
   ]
  },
  {
   "cell_type": "code",
   "execution_count": 132,
   "metadata": {},
   "outputs": [],
   "source": [
    "# Une liste vide\n",
    "result = []\n",
    "\n",
    "# Une boucle sur les nom de couche disponibles\n",
    "for layer_name in wms.contents:\n",
    "    # Une référence aux metadonnées de la couche en question\n",
    "    layer = wms[layer_name]\n",
    "    # Un dictionnaire pour stocker les métadonnes\n",
    "    # qui nous intéresse pour chaque couche\n",
    "    data = {\n",
    "        \"id\": layer_name,\n",
    "        \"title\": layer.title\n",
    "    }\n",
    "    # On ajoute le résultat à la liste \"result\"\n",
    "    result.append(data)"
   ]
  },
  {
   "cell_type": "markdown",
   "metadata": {},
   "source": [
    "On a donc créé une liste (un objet Python de type `list`) contenant plusieurs dictionnaires (objet Python de type `dict`), autant qu'il y a de couches décrites par le serveur WMS que nous explorons."
   ]
  },
  {
   "cell_type": "code",
   "execution_count": 133,
   "metadata": {},
   "outputs": [
    {
     "data": {
      "text/plain": [
       "[{'id': 'CADASTRALPARCELS.PARCELLAIRE_EXPRESS', 'title': 'PCI vecteur'},\n",
       " {'id': 'GEOGRAPHICALGRIDSYSTEMS.PLANIGNV2', 'title': 'Plan IGN v2'},\n",
       " {'id': 'LIMITES_ADMINISTRATIVES_EXPRESS.LATEST',\n",
       "  'title': 'Limites administratives mises à jour en continu.'},\n",
       " {'id': 'ORTHOIMAGERY.ORTHOPHOTOS', 'title': 'Photographies aériennes'}]"
      ]
     },
     "execution_count": 133,
     "metadata": {},
     "output_type": "execute_result"
    }
   ],
   "source": [
    "result"
   ]
  },
  {
   "cell_type": "markdown",
   "metadata": {},
   "source": [
    "### Écrire dans un fichier CSV ou dans un fichier excel\n",
    "\n",
    "La bibliothèque standard de Python propose le module `csv` qui va permettre de manipuler facilement des fichiers CSV (lecture, écriture)  \n",
    "\n",
    "Pour écrire ou lire des tableurs dans des formats plus compliqués (XLS, XLSX, ODS, etc.) il va être nécessaire d'utiliser des bibliothèques tiers (la bibliothèque `pandas` par exemple)."
   ]
  },
  {
   "cell_type": "code",
   "execution_count": 134,
   "metadata": {},
   "outputs": [],
   "source": [
    "df = pd.DataFrame(result)"
   ]
  },
  {
   "cell_type": "code",
   "execution_count": 135,
   "metadata": {},
   "outputs": [
    {
     "data": {
      "text/html": [
       "<div>\n",
       "<style scoped>\n",
       "    .dataframe tbody tr th:only-of-type {\n",
       "        vertical-align: middle;\n",
       "    }\n",
       "\n",
       "    .dataframe tbody tr th {\n",
       "        vertical-align: top;\n",
       "    }\n",
       "\n",
       "    .dataframe thead th {\n",
       "        text-align: right;\n",
       "    }\n",
       "</style>\n",
       "<table border=\"1\" class=\"dataframe\">\n",
       "  <thead>\n",
       "    <tr style=\"text-align: right;\">\n",
       "      <th></th>\n",
       "      <th>id</th>\n",
       "      <th>title</th>\n",
       "    </tr>\n",
       "  </thead>\n",
       "  <tbody>\n",
       "    <tr>\n",
       "      <th>0</th>\n",
       "      <td>CADASTRALPARCELS.PARCELLAIRE_EXPRESS</td>\n",
       "      <td>PCI vecteur</td>\n",
       "    </tr>\n",
       "    <tr>\n",
       "      <th>1</th>\n",
       "      <td>GEOGRAPHICALGRIDSYSTEMS.PLANIGNV2</td>\n",
       "      <td>Plan IGN v2</td>\n",
       "    </tr>\n",
       "    <tr>\n",
       "      <th>2</th>\n",
       "      <td>LIMITES_ADMINISTRATIVES_EXPRESS.LATEST</td>\n",
       "      <td>Limites administratives mises à jour en continu.</td>\n",
       "    </tr>\n",
       "    <tr>\n",
       "      <th>3</th>\n",
       "      <td>ORTHOIMAGERY.ORTHOPHOTOS</td>\n",
       "      <td>Photographies aériennes</td>\n",
       "    </tr>\n",
       "  </tbody>\n",
       "</table>\n",
       "</div>"
      ],
      "text/plain": [
       "                                       id   \n",
       "0    CADASTRALPARCELS.PARCELLAIRE_EXPRESS  \\\n",
       "1       GEOGRAPHICALGRIDSYSTEMS.PLANIGNV2   \n",
       "2  LIMITES_ADMINISTRATIVES_EXPRESS.LATEST   \n",
       "3                ORTHOIMAGERY.ORTHOPHOTOS   \n",
       "\n",
       "                                              title  \n",
       "0                                       PCI vecteur  \n",
       "1                                       Plan IGN v2  \n",
       "2  Limites administratives mises à jour en continu.  \n",
       "3                           Photographies aériennes  "
      ]
     },
     "execution_count": 135,
     "metadata": {},
     "output_type": "execute_result"
    }
   ],
   "source": [
    "df"
   ]
  },
  {
   "cell_type": "code",
   "execution_count": 136,
   "metadata": {},
   "outputs": [],
   "source": [
    "df.to_csv('/tmp/mon_fichier.csv', index=False)"
   ]
  },
  {
   "cell_type": "code",
   "execution_count": 137,
   "metadata": {},
   "outputs": [
    {
     "name": "stdout",
     "output_type": "stream",
     "text": [
      "id,title\n",
      "CADASTRALPARCELS.PARCELLAIRE_EXPRESS,PCI vecteur\n",
      "GEOGRAPHICALGRIDSYSTEMS.PLANIGNV2,Plan IGN v2\n",
      "LIMITES_ADMINISTRATIVES_EXPRESS.LATEST,Limites administratives mises à jour en continu.\n",
      "ORTHOIMAGERY.ORTHOPHOTOS,Photographies aériennes\n"
     ]
    }
   ],
   "source": [
    "%cat /tmp/mon_fichier.csv"
   ]
  },
  {
   "cell_type": "markdown",
   "metadata": {},
   "source": [
    "## Exercice - WFS\n",
    "\n",
    "Explorons désormais le contenu du serveur WFS du geoportail de l'IGN (dont l'url est contenue dans la variable `url_wfs_geoportail`).\n",
    "\n",
    "Répéter les opérations présentées ci-dessus mais sur le flux WFS suivant :"
   ]
  },
  {
   "cell_type": "code",
   "execution_count": 138,
   "metadata": {},
   "outputs": [],
   "source": [
    "wfs = WebFeatureService(url_wfs_geoportail, version='2.0.0')"
   ]
  },
  {
   "cell_type": "markdown",
   "metadata": {},
   "source": [
    "Pour chaque couche, vous devez stocker son identifiant, son titre, sa description et sa bounding-box en WGS84.\n",
    "\n",
    "Le tableur obtenu doit ainsi être de la forme suivante :\n",
    "\n",
    "| Couche | Titre | Abstract | Bounding Box WGS84 |\n",
    "|--------|-------|------|------|\n",
    "| CADASTRALPARCELS.PARCELLAIRE_EXPRESS | PCI vecteur | Plan cadastral informatisé vecteur de la DGFIP. | YYYY |\n",
    "| GEOGRAPHICALGRIDSYSTEMS.PLANIGNV2 | Plan IGN v2 | Cartographie multi-échelles sur le territoire national, issue des bases de données vecteur de l’IGN, mis à jour régulièrement et réalisée selon un processus entièrement automatisé. | YYYY | \n",
    "\n",
    "Vous devez stocker ces informations sous forme d'une liste de dictionnaires, puis convertir le résultat en un objet `DataFrame` et exportez le résultat au format CSV (méthode `to_csv`) ou au format Excel (méthode `to_excel`). \n",
    "\n",
    "**_À vous de jouer...!_**"
   ]
  },
  {
   "cell_type": "markdown",
   "metadata": {},
   "source": [
    "## Solution"
   ]
  },
  {
   "cell_type": "code",
   "execution_count": 145,
   "metadata": {},
   "outputs": [],
   "source": [
    "# On se connecte au service WFS souhaité\n",
    "wfs = WebFeatureService(url_wfs_geoportail, version='2.0.0')\n",
    "\n",
    "# Une liste vide pour accueillir les résultats\n",
    "resultat = []\n",
    "\n",
    "# On fait une boucle sur la liste contenant les noms de couche\n",
    "for l_name in wfs.contents:\n",
    "    # On stocke une référence à l'objet ContentMetadata\n",
    "    # décrivant la couche avec le nom contenu dans la variable \"l_name\"\n",
    "    l = wfs[l_name]\n",
    "\n",
    "    # On créé un dictionnaire pour stocker la description de cette couche\n",
    "    d = {\n",
    "        'Couche': layer_name,\n",
    "        'Title': l.title,\n",
    "        'Description': l.abstract,\n",
    "        'Bounding Box WGS84': str(l.boundingBoxWGS84).replace('(', '').replace(')', '')\n",
    "    }\n",
    "\n",
    "    # Ajout à la list de résultats\n",
    "    resultat.append(d)\n",
    "\n",
    "# Convertir notre liste de dictionnaires en \n",
    "# un DataFrame pandas\n",
    "df_wfs = pd.DataFrame(resultat)\n",
    "\n",
    "# Export vers un fichier\n",
    "df_wfs.to_csv('/tmp/wfs_geoportail_description.csv', index=False)"
   ]
  },
  {
   "cell_type": "markdown",
   "metadata": {},
   "source": [
    "Aperçu du fichier CSV exporté :"
   ]
  },
  {
   "cell_type": "code",
   "execution_count": 146,
   "metadata": {},
   "outputs": [
    {
     "name": "stdout",
     "output_type": "stream",
     "text": [
      "Couche,Title,Description,Bounding Box WGS84\n",
      "ORTHOIMAGERY.ORTHOPHOTOS,BDTOPO_V3:batiment.title,BDTOPO V3 23.3 édition 2023,\"-63.153333951602704, -21.389720340767205, 55.8367590264458, 51.3127196937117\"\n",
      "ORTHOIMAGERY.ORTHOPHOTOS,BDTOPO_V3:troncon_de_route.title,BDTOPO V3 23.3 édition 2023,\"-63.153333951602704, -21.389720340767205, 55.8367590264458, 51.3127196937117\"\n",
      "ORTHOIMAGERY.ORTHOPHOTOS,CADASTRALPARCELS.PARCELLAIRE_EXPRESS:parcelle.title,Plan cadastral informatisé vecteur de la DGFIP édition 07-2023.,\"-63.15331686629, -21.3897472604766, 55.8366858738437, 51.088897403453\"\n"
     ]
    }
   ],
   "source": [
    "%cat /tmp/wfs_geoportail_description.csv"
   ]
  }
 ],
 "metadata": {
  "kernelspec": {
   "display_name": "env-quarto",
   "language": "python",
   "name": "python3"
  },
  "language_info": {
   "codemirror_mode": {
    "name": "ipython",
    "version": 3
   },
   "file_extension": ".py",
   "mimetype": "text/x-python",
   "name": "python",
   "nbconvert_exporter": "python",
   "pygments_lexer": "ipython3",
   "version": "3.10.12"
  }
 },
 "nbformat": 4,
 "nbformat_minor": 2
}
